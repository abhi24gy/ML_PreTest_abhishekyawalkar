{
  "nbformat": 4,
  "nbformat_minor": 0,
  "metadata": {
    "colab": {
      "provenance": []
    },
    "kernelspec": {
      "name": "python3",
      "display_name": "Python 3"
    },
    "language_info": {
      "name": "python"
    },
    "accelerator": "GPU",
    "gpuClass": "standard"
  },
  "cells": [
    {
      "cell_type": "markdown",
      "source": [
        "**1. How many multiplications and additions do you need to perform a matrix multiplication between a (n, k) and (k, m) matrix? Explain**\n",
        "\n",
        "**Answer:**\n",
        "\n",
        "To perform a matrix multiplication between a **(n,k) and (k,m)** matrix, we need **nmk** multiplications and **nm(k-1)** additions.\n",
        "\n",
        "When we multiply 2 matrices of (n x k) and (k x m) dimensions, we will get the resulting matrix of dimensions **(n x m)**. \n",
        "\n",
        "Each element of a resulting matrix is a summation of the product of corresponding elements in the row of (n,k) matrix and column of (k,m) matrix.\n",
        "\n",
        "Thus, multiplication is done **k** times and addition is done **k-1** times to get a single element in a resulting matrix and we appearntly have (n x m) elements in the resulting matrix. \n",
        "\n",
        "Thus, total multiplications = **nmk** and total additions = **nm(k-1)**\n"
      ],
      "metadata": {
        "id": "G0fjlzlUQE6z"
      }
    },
    {
      "cell_type": "code",
      "source": [],
      "metadata": {
        "id": "wQYb1nMeajhI"
      },
      "execution_count": 41,
      "outputs": []
    },
    {
      "cell_type": "markdown",
      "source": [
        "**2. Write Python code to multiply the above two matrices. Solve using list of lists and then use numpy. Compare the timing of both solutions. Which one is faster? Why?**"
      ],
      "metadata": {
        "id": "rsTH3tcOQunV"
      }
    },
    {
      "cell_type": "code",
      "source": [
        "def matrix_multiplication(A, B):\n",
        "  #If no. of columns in matrix A is not equal to no. of rows in matrix B, then matrix multiplication can't be done\n",
        "    if len(A[0]) != len(B):\n",
        "        return None\n",
        "\n",
        "    result = []\n",
        "    for i in range(len(A)):\n",
        "      l = []\n",
        "      for j in range(len(B[0])):\n",
        "        l.append(0)\n",
        "      result.append(l)\n",
        "\n",
        "\n",
        "    for i in range(len(A)):\n",
        "        for j in range(len(B[0])):\n",
        "            for k in range(len(B)):\n",
        "                result[i][j] += A[i][k] * B[k][j]\n",
        "\n",
        "    return result"
      ],
      "metadata": {
        "id": "ANqN0rTERlr_"
      },
      "execution_count": 42,
      "outputs": []
    },
    {
      "cell_type": "code",
      "source": [
        "import numpy as np\n",
        "\n",
        "def matrix_multiplication_numpy(A, B):\n",
        "    return np.matmul(A, B)\n",
        "\n",
        "def matrix_multiplication_numpy2(A, B):\n",
        "  return np.dot(A, B)"
      ],
      "metadata": {
        "id": "0XKKdmsySlim"
      },
      "execution_count": 43,
      "outputs": []
    },
    {
      "cell_type": "code",
      "source": [
        "import timeit\n",
        "\n",
        "A = [[1, 2, 3], [4, 5, 6]]\n",
        "B = [[7, 8, 9], [3, 4, 5], [1, 5, 7]]\n",
        "\n",
        "print(\"Computing Time List of lists:\", timeit.timeit('matrix_multiplication(A, B)', globals=globals(), number=100000))\n",
        "print(\"Computing Time Numpy matmul:\", timeit.timeit('matrix_multiplication_numpy(A, B)', globals=globals(), number=100000))\n",
        "print(\"Computing Time Numpy dot:\", timeit.timeit('matrix_multiplication_numpy2(A, B)', globals=globals(), number = 100000))"
      ],
      "metadata": {
        "colab": {
          "base_uri": "https://localhost:8080/"
        },
        "id": "CARApX82SrXX",
        "outputId": "89a61bbf-1e53-43d0-efd5-3ca72d650769"
      },
      "execution_count": 44,
      "outputs": [
        {
          "output_type": "stream",
          "name": "stdout",
          "text": [
            "Computing Time List of lists: 1.609904827000264\n",
            "Computing Time Numpy matmul: 1.4363464480002222\n",
            "Computing Time Numpy dot: 1.8337420810003096\n"
          ]
        }
      ]
    },
    {
      "cell_type": "markdown",
      "source": [
        "From the result above, we can conclude that the implementation using **numpy is faster compared to the list of lists implementation**. And the reason might be the use of **compiled C code in numpy** over the pure python compilation of list of lists approach. "
      ],
      "metadata": {
        "id": "p6FXO4FqTZNH"
      }
    },
    {
      "cell_type": "code",
      "source": [],
      "metadata": {
        "id": "d_kOCrDgai2D"
      },
      "execution_count": 44,
      "outputs": []
    },
    {
      "cell_type": "markdown",
      "source": [
        "**3. Finding the highest element in a list requires one pass of the array. Finding the second highest element requires 2 passes of the the array. Using this method, what is the time complexity of finding the median of the array? Can you suggest a better method? Can you implement both these methods in Python and compare against numpy.median routine in terms of time?**"
      ],
      "metadata": {
        "id": "0YqjQIpbUKoP"
      }
    },
    {
      "cell_type": "markdown",
      "source": [
        "Time complexity of finding the median of the array will be **O(n^2)**.\n",
        "Another approach would be to initially sort the array, and then find the median of the array in a single pass. The average time complexity of sorting (merge sort) an array is **O(n logn)**"
      ],
      "metadata": {
        "id": "rxNIt1Z1UfPV"
      }
    },
    {
      "cell_type": "code",
      "source": [
        "def findmedian(arr):\n",
        "    if not arr:\n",
        "        return None\n",
        "    arr.sort()\n",
        "    pivot = arr[len(arr) // 2]\n",
        "    return pivot"
      ],
      "metadata": {
        "id": "JDREhZLPTFSz"
      },
      "execution_count": 45,
      "outputs": []
    },
    {
      "cell_type": "code",
      "source": [
        "def findmedian_numpy(arr, k):\n",
        "  return np.median(arr)"
      ],
      "metadata": {
        "id": "9QAQHM6FWmSY"
      },
      "execution_count": 46,
      "outputs": []
    },
    {
      "cell_type": "code",
      "source": [
        "import timeit\n",
        "\n",
        "arr = [5, 7, 3, 1, 2, 6, 4]\n",
        "#print(findmedian(arr))\n",
        "#print(findmedian_numpy(arr, len(arr)//2))\n",
        "print(\"Computing Time sorting:\", timeit.timeit('findmedian(arr)', globals=globals(), number=10000))\n",
        "print(\"Computing Time np median:\", timeit.timeit('findmedian_numpy(arr, len(arr)//2)', globals=globals(), number=10000))\n"
      ],
      "metadata": {
        "colab": {
          "base_uri": "https://localhost:8080/"
        },
        "id": "BZiD5wqkWVUX",
        "outputId": "5f0ae275-d3ff-4c10-9964-2eaa895ff955"
      },
      "execution_count": 47,
      "outputs": [
        {
          "output_type": "stream",
          "name": "stdout",
          "text": [
            "Computing Time sorting: 0.0047375159997500305\n",
            "Computing Time np median: 0.4072972720000507\n"
          ]
        }
      ]
    },
    {
      "cell_type": "markdown",
      "source": [
        "From the result above, we can conclude that the **implementation using numpy is slower compared to the sorting approach**. "
      ],
      "metadata": {
        "id": "ENAqFYnbWU4U"
      }
    },
    {
      "cell_type": "code",
      "source": [],
      "metadata": {
        "id": "H8gXh-CPalJa"
      },
      "execution_count": 47,
      "outputs": []
    },
    {
      "cell_type": "markdown",
      "source": [
        "**4. What is the gradient of the following function with respect to x and y?**  \n",
        "**Answer:**                                                                     \n",
        "The gradient of the given function w.r.to **x** is, **2xy + y^3cos(x)**         \n",
        "The gradient of the given function w.r.to **y** is, **x^2 + 3y^2sin(x)**\n",
        "\n",
        "\n"
      ],
      "metadata": {
        "id": "dQT993HYYEkd"
      }
    },
    {
      "cell_type": "code",
      "source": [],
      "metadata": {
        "id": "Ua2U4E4salnu"
      },
      "execution_count": 47,
      "outputs": []
    },
    {
      "cell_type": "markdown",
      "source": [
        "**5. Use JAX to confirm the gradient evaluated by your method matches the analytical solution corresponding to a few random values of x and y**\n",
        "\n"
      ],
      "metadata": {
        "id": "1c90Dm67aCTZ"
      }
    },
    {
      "cell_type": "code",
      "source": [
        "!pip install jax"
      ],
      "metadata": {
        "colab": {
          "base_uri": "https://localhost:8080/"
        },
        "id": "zl-QZGpWaugl",
        "outputId": "4ac2486f-d8b3-40a0-af96-a1a0fb18f98f"
      },
      "execution_count": 48,
      "outputs": [
        {
          "output_type": "stream",
          "name": "stdout",
          "text": [
            "Looking in indexes: https://pypi.org/simple, https://us-python.pkg.dev/colab-wheels/public/simple/\n",
            "Requirement already satisfied: jax in /usr/local/lib/python3.8/dist-packages (0.3.25)\n",
            "Requirement already satisfied: opt-einsum in /usr/local/lib/python3.8/dist-packages (from jax) (3.3.0)\n",
            "Requirement already satisfied: typing-extensions in /usr/local/lib/python3.8/dist-packages (from jax) (4.4.0)\n",
            "Requirement already satisfied: numpy>=1.20 in /usr/local/lib/python3.8/dist-packages (from jax) (1.21.6)\n",
            "Requirement already satisfied: scipy>=1.5 in /usr/local/lib/python3.8/dist-packages (from jax) (1.7.3)\n"
          ]
        }
      ]
    },
    {
      "cell_type": "code",
      "source": [
        "import jax.numpy as jnp\n",
        "from jax import grad\n",
        "\n",
        "def f(x,y):\n",
        "  return (x**2)*y + (y**3)*jnp.sin(x)\n",
        "\n",
        "dfdx, dfdy = grad(f, [0, 1])(2.0, 3.0)\n",
        "\n",
        "print(\"Gradient w.r.to x:\", dfdx)\n",
        "print(\"Gradient w.r.to y:\", dfdy)"
      ],
      "metadata": {
        "colab": {
          "base_uri": "https://localhost:8080/"
        },
        "id": "RbhIWQLGvMpW",
        "outputId": "b1742ac3-ddf0-45a8-b7b3-8ffe3ec6d331"
      },
      "execution_count": 49,
      "outputs": [
        {
          "output_type": "stream",
          "name": "stdout",
          "text": [
            "Gradient w.r.to x: 0.7640362\n",
            "Gradient w.r.to y: 28.551031\n"
          ]
        }
      ]
    },
    {
      "cell_type": "markdown",
      "source": [
        "**6. Use sympy to confirm that you obtain the same gradient analytically.**"
      ],
      "metadata": {
        "id": "RDaTCWr6aJ1y"
      }
    },
    {
      "cell_type": "code",
      "source": [
        "import sympy as sp\n",
        "\n",
        "x, y = sp.symbols('x y')\n",
        "\n",
        "f = (x**2)*y + (y**3)*sp.sin(x)\n",
        "\n",
        "#To take derivative we use 'diff' function in sympy\n",
        "\n",
        "delta_x = sp.diff(f, x)\n",
        "delta_y = sp.diff(f, y)\n",
        "\n",
        "print(delta_x)  \n",
        "print(delta_y)"
      ],
      "metadata": {
        "colab": {
          "base_uri": "https://localhost:8080/"
        },
        "id": "x4cgbxiFXxjW",
        "outputId": "56f3e045-6ac9-4864-88be-a892e5bb74e7"
      },
      "execution_count": 50,
      "outputs": [
        {
          "output_type": "stream",
          "name": "stdout",
          "text": [
            "2*x*y + y**3*cos(x)\n",
            "x**2 + 3*y**2*sin(x)\n"
          ]
        }
      ]
    },
    {
      "cell_type": "markdown",
      "source": [
        "Results Verified !"
      ],
      "metadata": {
        "id": "Ub5LufYVcIe2"
      }
    },
    {
      "cell_type": "code",
      "source": [],
      "metadata": {
        "id": "bxyi61gAb72q"
      },
      "execution_count": 50,
      "outputs": []
    },
    {
      "cell_type": "markdown",
      "source": [
        "**7. Create a Python nested dictionary to represent hierarchical information. We want to store record of students and their marks.**"
      ],
      "metadata": {
        "id": "fNORGzh9cNuS"
      }
    },
    {
      "cell_type": "code",
      "source": [
        "Students = {\n",
        "    2022: {\n",
        "        'Branch 1': {\n",
        "            1: {'Name': 'N',\n",
        "                'Marks': {'Maths': 100, 'English': 70 #Add more courses/marks\n",
        "                          }},\n",
        "            # Add more students\n",
        "        },\n",
        "        'Branch 2': {\n",
        "            41: {'Name': 'M', 'Marks': {'Maths': 90, 'English': 90}},\n",
        "            # more students\n",
        "        },\n",
        "    },\n",
        "    2023: {\n",
        "        'Branch 1': {\n",
        "            1: {'Name': 'Name1', 'Marks': {'Maths': 100, 'English': 70}},\n",
        "            # Add more students\n",
        "        },\n",
        "        'Branch 2': {\n",
        "            41: {'Name': 'Name2', 'Marks': {'Maths': 90, 'English': 90}},\n",
        "            # more students\n",
        "        },\n",
        "    },\n",
        "    2024: {\n",
        "        'Branch 1': {\n",
        "            1: {'Name': 'Name1', 'Marks': {'Maths': 100, 'English': 70}},\n",
        "            # Add more students\n",
        "        },\n",
        "        'Branch 2': {\n",
        "            41: {'Name': 'Name2', 'Marks': {'Maths': 90, 'English': 90}},\n",
        "            # more students\n",
        "        },\n",
        "    },\n",
        "    2025: {\n",
        "        'Branch 1': {\n",
        "            1: {'Name': 'Name1', 'Marks': {'Maths': 100, 'English': 70}},\n",
        "            # Add more students\n",
        "        },\n",
        "        'Branch 2': {\n",
        "            41: {'Name': 'Name2', 'Marks': {'Maths': 90, 'English': 90}},\n",
        "            # more students\n",
        "        },\n",
        "    },\n",
        "}\n"
      ],
      "metadata": {
        "id": "c18cJtztcZDR"
      },
      "execution_count": 51,
      "outputs": []
    },
    {
      "cell_type": "markdown",
      "source": [
        "Here, keys in the value dictionary of 'Branch 1' and 'Branch 2' represent the Roll Numbers of students, and the values contains Name and Marks of the students."
      ],
      "metadata": {
        "id": "zfErg4m-eB3A"
      }
    },
    {
      "cell_type": "code",
      "source": [],
      "metadata": {
        "id": "rQQ0QBh7eQHI"
      },
      "execution_count": 51,
      "outputs": []
    },
    {
      "cell_type": "markdown",
      "source": [
        "**8. Store the same information using Python classes. We have an overall database which is a list of year objects. Each year contains a list of branches. Each branch contains a list of students. Each student has some properties like name, roll number and has marks in some subjects.**\n",
        "\n"
      ],
      "metadata": {
        "id": "UkKLi9NlczNf"
      }
    },
    {
      "cell_type": "code",
      "source": [
        "class Year:\n",
        "    def __init__(self, branches):\n",
        "        self.branches = branches\n",
        "\n",
        "\n",
        "class Branch:\n",
        "    def __init__(self, students):\n",
        "        self.students = students\n",
        "\n",
        "      \n",
        "class Student:\n",
        "    def __init__(self, Name, RollNumber, marks):\n",
        "        self.Name = Name\n",
        "        self.RollNumber = RollNumber\n",
        "        self.marks = marks\n",
        "\n",
        "\n",
        "class Database:\n",
        "    def __init__(self, years):\n",
        "        self.years = years\n",
        "\n",
        "# Define instances of class Student\n",
        "student1 = Student('Name1', 1, {'Maths': 100, 'English': 70})\n",
        "student2 = Student('Name2', 2, {'Maths': 90, 'English': 90})\n",
        "\n",
        "# Define instances of class Branch\n",
        "Branch1 = Branch([student1, student2])\n",
        "Branch2 = Branch([student1])\n",
        "\n",
        "# Define instances of class Year\n",
        "year1 = Year([Branch1, Branch2])\n",
        "year2 = Year([Branch1])\n",
        "\n",
        "# Define instances of class Database\n",
        "database = Database([year1, year2])"
      ],
      "metadata": {
        "id": "vC_b0odUc4Zo"
      },
      "execution_count": 52,
      "outputs": []
    },
    {
      "cell_type": "markdown",
      "source": [
        "In this example, the **Database** class has a list of **Year** objects as an attribute, each **Year** object has a list of **Branch** objects as an attribute, and each **Branch** object has a list of **Student** objects as an attribute. Each **Student** object has a **Name, RollNumber, and a dictionary of marks** as attributes."
      ],
      "metadata": {
        "id": "1mOAvSaJfI0B"
      }
    },
    {
      "cell_type": "markdown",
      "source": [
        "**9. Using matplotlib plot the following functions on the domain: x = 0.5 to 100.0 in steps of 0.5.**"
      ],
      "metadata": {
        "id": "x20cAeWCgKOk"
      }
    },
    {
      "cell_type": "markdown",
      "source": [
        "i) y = x"
      ],
      "metadata": {
        "id": "1AiIgNSB8Fb6"
      }
    },
    {
      "cell_type": "code",
      "source": [
        "import numpy as np\n",
        "import matplotlib.pyplot as plt\n",
        "\n",
        "x = [x for x in np.arange(0.5, 100.0, 0.5)]\n",
        "y = x\n",
        "\n",
        "plt.plot(x, y)\n",
        "\n",
        "plt.xlabel('x')\n",
        "plt.ylabel('y')\n",
        "plt.show()\n"
      ],
      "metadata": {
        "colab": {
          "base_uri": "https://localhost:8080/",
          "height": 279
        },
        "id": "IhVemnPye9Kr",
        "outputId": "439e1c0c-a8e3-4350-80b8-056ad21185da"
      },
      "execution_count": 53,
      "outputs": [
        {
          "output_type": "display_data",
          "data": {
            "text/plain": [
              "<Figure size 432x288 with 1 Axes>"
            ],
            "image/png": "[encoded data removed]"
          },
          "metadata": {
            "needs_background": "light"
          }
        }
      ]
    },
    {
      "cell_type": "markdown",
      "source": [
        "ii) y = x^2"
      ],
      "metadata": {
        "id": "1u-OkRdt9gTj"
      }
    },
    {
      "cell_type": "code",
      "source": [
        "import numpy as np\n",
        "import matplotlib.pyplot as plt\n",
        "\n",
        "x = np.array([x for x in np.arange(0.5, 100.0, 0.5)])\n",
        "y = x**2\n",
        "#print(y)\n",
        "plt.plot(x, y)\n",
        "\n",
        "plt.xlabel('x')\n",
        "plt.ylabel('y = x^2')\n",
        "plt.show()"
      ],
      "metadata": {
        "colab": {
          "base_uri": "https://localhost:8080/",
          "height": 279
        },
        "id": "1qGpp80D8Obq",
        "outputId": "ad0ec42d-7b73-4172-d98f-e98d094a4df7"
      },
      "execution_count": 54,
      "outputs": [
        {
          "output_type": "display_data",
          "data": {
            "text/plain": [
              "<Figure size 432x288 with 1 Axes>"
            ],
            "image/png": "[encoded data removed]"
          },
          "metadata": {
            "needs_background": "light"
          }
        }
      ]
    },
    {
      "cell_type": "markdown",
      "source": [
        "iii) y = x^3/100"
      ],
      "metadata": {
        "id": "aV6vXrkJ9v6a"
      }
    },
    {
      "cell_type": "code",
      "source": [
        "import numpy as np\n",
        "import matplotlib.pyplot as plt\n",
        "\n",
        "x = np.array([x for x in np.arange(0.5, 100.0, 0.5)])\n",
        "y = x**3/100\n",
        "#print(y)\n",
        "\n",
        "plt.plot(x, y)\n",
        "\n",
        "plt.xlabel('x')\n",
        "plt.ylabel('y = x^3/100')\n",
        "plt.show()"
      ],
      "metadata": {
        "colab": {
          "base_uri": "https://localhost:8080/",
          "height": 279
        },
        "id": "DLQ27S1P9oSf",
        "outputId": "e06df443-72b6-412b-c1a8-3a36e04a4e41"
      },
      "execution_count": 55,
      "outputs": [
        {
          "output_type": "display_data",
          "data": {
            "text/plain": [
              "<Figure size 432x288 with 1 Axes>"
            ],
            "image/png": "[encoded data removed]"
          },
          "metadata": {
            "needs_background": "light"
          }
        }
      ]
    },
    {
      "cell_type": "markdown",
      "source": [
        "iv) y = sin(x)"
      ],
      "metadata": {
        "id": "xs2Vbd8m-cVp"
      }
    },
    {
      "cell_type": "code",
      "source": [
        "import numpy as np\n",
        "import matplotlib.pyplot as plt\n",
        "\n",
        "x = np.array([x for x in np.arange(0.5, 100.0, 0.5)])\n",
        "y = np.sin(x)\n",
        "#print(y)\n",
        "\n",
        "plt.plot(x, y)\n",
        "\n",
        "plt.xlabel('x')\n",
        "plt.ylabel('y = sin(x)')\n",
        "plt.show()"
      ],
      "metadata": {
        "colab": {
          "base_uri": "https://localhost:8080/",
          "height": 279
        },
        "id": "Yb6p-tWy98fW",
        "outputId": "df183047-fc3c-4f7a-80e3-76c233dcc49f"
      },
      "execution_count": 56,
      "outputs": [
        {
          "output_type": "display_data",
          "data": {
            "text/plain": [
              "<Figure size 432x288 with 1 Axes>"
            ],
            "image/png": "[encoded data removed]"
          },
          "metadata": {
            "needs_background": "light"
          }
        }
      ]
    },
    {
      "cell_type": "markdown",
      "source": [
        "v) y = sin(x)/x"
      ],
      "metadata": {
        "id": "RddczbHY-kI5"
      }
    },
    {
      "cell_type": "code",
      "source": [
        "import numpy as np\n",
        "import matplotlib.pyplot as plt\n",
        "\n",
        "x = np.array([x for x in np.arange(0.5, 100.0, 0.5)])\n",
        "y = np.sin(x)/x\n",
        "#print(y)\n",
        "\n",
        "plt.plot(x, y)\n",
        "\n",
        "plt.xlabel('x')\n",
        "plt.ylabel('y = sin(x)/x')\n",
        "plt.show()"
      ],
      "metadata": {
        "colab": {
          "base_uri": "https://localhost:8080/",
          "height": 280
        },
        "id": "RSAVwj2v-YR_",
        "outputId": "b6792561-30a2-4088-d273-b4a154d049f5"
      },
      "execution_count": 57,
      "outputs": [
        {
          "output_type": "display_data",
          "data": {
            "text/plain": [
              "<Figure size 432x288 with 1 Axes>"
            ],
            "image/png": "[encoded data removed]"
          },
          "metadata": {
            "needs_background": "light"
          }
        }
      ]
    },
    {
      "cell_type": "markdown",
      "source": [
        "vi) y = log(x)"
      ],
      "metadata": {
        "id": "zhgxqo20-nVG"
      }
    },
    {
      "cell_type": "code",
      "source": [
        "import numpy as np\n",
        "import matplotlib.pyplot as plt\n",
        "\n",
        "x = np.array([x for x in np.arange(0.5, 100.0, 0.5)])\n",
        "y = np.log(x)\n",
        "#print(y)\n",
        "\n",
        "plt.plot(x, y)\n",
        "\n",
        "plt.xlabel('x')\n",
        "plt.ylabel('y = log(x)')\n",
        "plt.show()"
      ],
      "metadata": {
        "colab": {
          "base_uri": "https://localhost:8080/",
          "height": 279
        },
        "id": "mWg4BijQ-rPw",
        "outputId": "bbd0e020-3f53-4476-94a6-5b52478b0fdc"
      },
      "execution_count": 58,
      "outputs": [
        {
          "output_type": "display_data",
          "data": {
            "text/plain": [
              "<Figure size 432x288 with 1 Axes>"
            ],
            "image/png": "[encoded data removed]"
          },
          "metadata": {
            "needs_background": "light"
          }
        }
      ]
    },
    {
      "cell_type": "markdown",
      "source": [
        "vii) y = e^x"
      ],
      "metadata": {
        "id": "S6644edD-qmn"
      }
    },
    {
      "cell_type": "code",
      "source": [
        "import numpy as np\n",
        "import matplotlib.pyplot as plt\n",
        "\n",
        "x = np.array([x for x in np.arange(0.5, 100.0, 0.5)])\n",
        "y = np.exp(x)\n",
        "#print(y)\n",
        "\n",
        "plt.plot(x, y)\n",
        "\n",
        "plt.xlabel('x')\n",
        "plt.ylabel('y = e^x')\n",
        "plt.show()"
      ],
      "metadata": {
        "colab": {
          "base_uri": "https://localhost:8080/",
          "height": 290
        },
        "id": "vH7RGBdy-xU-",
        "outputId": "44480d99-1c96-409d-ee1d-a0d7fe3fe3a7"
      },
      "execution_count": 59,
      "outputs": [
        {
          "output_type": "display_data",
          "data": {
            "text/plain": [
              "<Figure size 432x288 with 1 Axes>"
            ],
            "image/png": "[encoded data removed]"
          },
          "metadata": {
            "needs_background": "light"
          }
        }
      ]
    },
    {
      "cell_type": "markdown",
      "source": [
        "**10. Using numpy generate a matrix of size 20X5 containing random numbers drawn uniformly from the range of 1 to 2. Using Pandas create a dataframe out of this matrix. Name the columns of the dataframe as “a”, “b”, “c”, “d”, “e”. Find the column with the highest standard deviation. Find the row with the lowest mean.**"
      ],
      "metadata": {
        "id": "xrzSNpqU_qkh"
      }
    },
    {
      "cell_type": "code",
      "source": [
        "df = np.random.uniform(1, 2, (20, 5))\n",
        "import pandas as pd\n",
        "\n",
        "df = pd.DataFrame(df, columns = ['a', 'b', 'c', 'd', 'e'])\n",
        "#print(df)\n",
        "s = df.std()\n",
        "m = df.mean(axis = 1)\n",
        "print(\"Column with the highest standard deviation is:\", s.idxmax())\n",
        "print(\"Row with the lowest mean is:\", m.idxmin())"
      ],
      "metadata": {
        "colab": {
          "base_uri": "https://localhost:8080/"
        },
        "id": "j1OaBzxd-5sz",
        "outputId": "c9de7b3b-eb43-4cc5-f7b9-8d1f3788930f"
      },
      "execution_count": 60,
      "outputs": [
        {
          "output_type": "stream",
          "name": "stdout",
          "text": [
            "Column with the highest standard deviation is: b\n",
            "Row with the lowest mean is: 13\n"
          ]
        }
      ]
    },
    {
      "cell_type": "markdown",
      "source": [
        "**11. Add a new column to the dataframe called “f” which is the sum of the columns “a”, “b”, “c”, “d”, “e”. Create another column called “g”. The value in the column “g” should be “LT8” if the value in the column “f” is less than 8 and “GT8” otherwise. Find the number of rows in the dataframe where the value in the column “g” is “LT8”. Find the standard deviation of the column “f” for the rows where the value in the column “g” is “LT8” and “GT8” respectively.**"
      ],
      "metadata": {
        "id": "lF7s_8joEzv0"
      }
    },
    {
      "cell_type": "code",
      "source": [
        "f = df['a'] + df['b'] + df['c'] + df['d'] + df['e']\n",
        "df['f'] = f\n",
        "g = np.where(df['f'] > 8, 'GT8', 'LT8')\n",
        "df['g'] = g"
      ],
      "metadata": {
        "id": "7EgdMQsqBORp"
      },
      "execution_count": 61,
      "outputs": []
    },
    {
      "cell_type": "code",
      "source": [
        "df"
      ],
      "metadata": {
        "colab": {
          "base_uri": "https://localhost:8080/",
          "height": 676
        },
        "id": "3rB2WqLQFLKS",
        "outputId": "6cd4742c-f51e-4273-9020-0349301df0f2"
      },
      "execution_count": 62,
      "outputs": [
        {
          "output_type": "execute_result",
          "data": {
            "text/plain": [
              "           a         b         c         d         e         f    g\n",
              "0   1.027492  1.806927  1.566572  1.580313  1.940081  7.921384  LT8\n",
              "1   1.718178  1.052240  1.489215  1.864857  1.334425  7.458914  LT8\n",
              "2   1.151977  1.263193  1.875939  1.786112  1.704029  7.781251  LT8\n",
              "3   1.886728  1.334414  1.196236  1.347753  1.023754  6.788884  LT8\n",
              "4   1.451848  1.860866  1.221049  1.751487  1.882988  8.168238  GT8\n",
              "5   1.338895  1.845806  1.480310  1.048771  1.779233  7.493015  LT8\n",
              "6   1.765406  1.674434  1.360496  1.603298  1.700760  8.104393  GT8\n",
              "7   1.237750  1.109776  1.883181  1.890955  1.808655  7.930317  LT8\n",
              "8   1.186084  1.481536  1.587237  1.194236  1.413701  6.862795  LT8\n",
              "9   1.552192  1.441456  1.690883  1.859416  1.433399  7.977346  LT8\n",
              "10  1.457299  1.828436  1.162010  1.697123  1.282198  7.427066  LT8\n",
              "11  1.678939  1.450797  1.840224  1.336664  1.282865  7.589489  LT8\n",
              "12  1.003789  1.038273  1.709321  1.938558  1.239408  6.929350  LT8\n",
              "13  1.212383  1.094832  1.270899  1.038399  1.619796  6.236308  LT8\n",
              "14  1.519035  1.000247  1.892264  1.729825  1.505918  7.647290  LT8\n",
              "15  1.716763  1.755983  1.409229  1.167616  1.190355  7.239945  LT8\n",
              "16  1.511427  1.685805  1.416140  1.792240  1.873429  8.279041  GT8\n",
              "17  1.263663  1.804940  1.971370  1.509975  1.748001  8.297948  GT8\n",
              "18  1.043897  1.034743  1.647968  1.709071  1.144639  6.580318  LT8\n",
              "19  1.196903  1.958588  1.781312  1.820438  1.215831  7.973072  LT8"
            ],
            "text/html": [
              "\n",
              "  <div id=\"df-25975a10-d121-4002-8ecc-6f38e28847ca\">\n",
              "    <div class=\"colab-df-container\">\n",
              "      <div>\n",
              "<style scoped>\n",
              "    .dataframe tbody tr th:only-of-type {\n",
              "        vertical-align: middle;\n",
              "    }\n",
              "\n",
              "    .dataframe tbody tr th {\n",
              "        vertical-align: top;\n",
              "    }\n",
              "\n",
              "    .dataframe thead th {\n",
              "        text-align: right;\n",
              "    }\n",
              "</style>\n",
              "<table border=\"1\" class=\"dataframe\">\n",
              "  <thead>\n",
              "    <tr style=\"text-align: right;\">\n",
              "      <th></th>\n",
              "      <th>a</th>\n",
              "      <th>b</th>\n",
              "      <th>c</th>\n",
              "      <th>d</th>\n",
              "      <th>e</th>\n",
              "      <th>f</th>\n",
              "      <th>g</th>\n",
              "    </tr>\n",
              "  </thead>\n",
              "  <tbody>\n",
              "    <tr>\n",
              "      <th>0</th>\n",
              "      <td>1.027492</td>\n",
              "      <td>1.806927</td>\n",
              "      <td>1.566572</td>\n",
              "      <td>1.580313</td>\n",
              "      <td>1.940081</td>\n",
              "      <td>7.921384</td>\n",
              "      <td>LT8</td>\n",
              "    </tr>\n",
              "    <tr>\n",
              "      <th>1</th>\n",
              "      <td>1.718178</td>\n",
              "      <td>1.052240</td>\n",
              "      <td>1.489215</td>\n",
              "      <td>1.864857</td>\n",
              "      <td>1.334425</td>\n",
              "      <td>7.458914</td>\n",
              "      <td>LT8</td>\n",
              "    </tr>\n",
              "    <tr>\n",
              "      <th>2</th>\n",
              "      <td>1.151977</td>\n",
              "      <td>1.263193</td>\n",
              "      <td>1.875939</td>\n",
              "      <td>1.786112</td>\n",
              "      <td>1.704029</td>\n",
              "      <td>7.781251</td>\n",
              "      <td>LT8</td>\n",
              "    </tr>\n",
              "    <tr>\n",
              "      <th>3</th>\n",
              "      <td>1.886728</td>\n",
              "      <td>1.334414</td>\n",
              "      <td>1.196236</td>\n",
              "      <td>1.347753</td>\n",
              "      <td>1.023754</td>\n",
              "      <td>6.788884</td>\n",
              "      <td>LT8</td>\n",
              "    </tr>\n",
              "    <tr>\n",
              "      <th>4</th>\n",
              "      <td>1.451848</td>\n",
              "      <td>1.860866</td>\n",
              "      <td>1.221049</td>\n",
              "      <td>1.751487</td>\n",
              "      <td>1.882988</td>\n",
              "      <td>8.168238</td>\n",
              "      <td>GT8</td>\n",
              "    </tr>\n",
              "    <tr>\n",
              "      <th>5</th>\n",
              "      <td>1.338895</td>\n",
              "      <td>1.845806</td>\n",
              "      <td>1.480310</td>\n",
              "      <td>1.048771</td>\n",
              "      <td>1.779233</td>\n",
              "      <td>7.493015</td>\n",
              "      <td>LT8</td>\n",
              "    </tr>\n",
              "    <tr>\n",
              "      <th>6</th>\n",
              "      <td>1.765406</td>\n",
              "      <td>1.674434</td>\n",
              "      <td>1.360496</td>\n",
              "      <td>1.603298</td>\n",
              "      <td>1.700760</td>\n",
              "      <td>8.104393</td>\n",
              "      <td>GT8</td>\n",
              "    </tr>\n",
              "    <tr>\n",
              "      <th>7</th>\n",
              "      <td>1.237750</td>\n",
              "      <td>1.109776</td>\n",
              "      <td>1.883181</td>\n",
              "      <td>1.890955</td>\n",
              "      <td>1.808655</td>\n",
              "      <td>7.930317</td>\n",
              "      <td>LT8</td>\n",
              "    </tr>\n",
              "    <tr>\n",
              "      <th>8</th>\n",
              "      <td>1.186084</td>\n",
              "      <td>1.481536</td>\n",
              "      <td>1.587237</td>\n",
              "      <td>1.194236</td>\n",
              "      <td>1.413701</td>\n",
              "      <td>6.862795</td>\n",
              "      <td>LT8</td>\n",
              "    </tr>\n",
              "    <tr>\n",
              "      <th>9</th>\n",
              "      <td>1.552192</td>\n",
              "      <td>1.441456</td>\n",
              "      <td>1.690883</td>\n",
              "      <td>1.859416</td>\n",
              "      <td>1.433399</td>\n",
              "      <td>7.977346</td>\n",
              "      <td>LT8</td>\n",
              "    </tr>\n",
              "    <tr>\n",
              "      <th>10</th>\n",
              "      <td>1.457299</td>\n",
              "      <td>1.828436</td>\n",
              "      <td>1.162010</td>\n",
              "      <td>1.697123</td>\n",
              "      <td>1.282198</td>\n",
              "      <td>7.427066</td>\n",
              "      <td>LT8</td>\n",
              "    </tr>\n",
              "    <tr>\n",
              "      <th>11</th>\n",
              "      <td>1.678939</td>\n",
              "      <td>1.450797</td>\n",
              "      <td>1.840224</td>\n",
              "      <td>1.336664</td>\n",
              "      <td>1.282865</td>\n",
              "      <td>7.589489</td>\n",
              "      <td>LT8</td>\n",
              "    </tr>\n",
              "    <tr>\n",
              "      <th>12</th>\n",
              "      <td>1.003789</td>\n",
              "      <td>1.038273</td>\n",
              "      <td>1.709321</td>\n",
              "      <td>1.938558</td>\n",
              "      <td>1.239408</td>\n",
              "      <td>6.929350</td>\n",
              "      <td>LT8</td>\n",
              "    </tr>\n",
              "    <tr>\n",
              "      <th>13</th>\n",
              "      <td>1.212383</td>\n",
              "      <td>1.094832</td>\n",
              "      <td>1.270899</td>\n",
              "      <td>1.038399</td>\n",
              "      <td>1.619796</td>\n",
              "      <td>6.236308</td>\n",
              "      <td>LT8</td>\n",
              "    </tr>\n",
              "    <tr>\n",
              "      <th>14</th>\n",
              "      <td>1.519035</td>\n",
              "      <td>1.000247</td>\n",
              "      <td>1.892264</td>\n",
              "      <td>1.729825</td>\n",
              "      <td>1.505918</td>\n",
              "      <td>7.647290</td>\n",
              "      <td>LT8</td>\n",
              "    </tr>\n",
              "    <tr>\n",
              "      <th>15</th>\n",
              "      <td>1.716763</td>\n",
              "      <td>1.755983</td>\n",
              "      <td>1.409229</td>\n",
              "      <td>1.167616</td>\n",
              "      <td>1.190355</td>\n",
              "      <td>7.239945</td>\n",
              "      <td>LT8</td>\n",
              "    </tr>\n",
              "    <tr>\n",
              "      <th>16</th>\n",
              "      <td>1.511427</td>\n",
              "      <td>1.685805</td>\n",
              "      <td>1.416140</td>\n",
              "      <td>1.792240</td>\n",
              "      <td>1.873429</td>\n",
              "      <td>8.279041</td>\n",
              "      <td>GT8</td>\n",
              "    </tr>\n",
              "    <tr>\n",
              "      <th>17</th>\n",
              "      <td>1.263663</td>\n",
              "      <td>1.804940</td>\n",
              "      <td>1.971370</td>\n",
              "      <td>1.509975</td>\n",
              "      <td>1.748001</td>\n",
              "      <td>8.297948</td>\n",
              "      <td>GT8</td>\n",
              "    </tr>\n",
              "    <tr>\n",
              "      <th>18</th>\n",
              "      <td>1.043897</td>\n",
              "      <td>1.034743</td>\n",
              "      <td>1.647968</td>\n",
              "      <td>1.709071</td>\n",
              "      <td>1.144639</td>\n",
              "      <td>6.580318</td>\n",
              "      <td>LT8</td>\n",
              "    </tr>\n",
              "    <tr>\n",
              "      <th>19</th>\n",
              "      <td>1.196903</td>\n",
              "      <td>1.958588</td>\n",
              "      <td>1.781312</td>\n",
              "      <td>1.820438</td>\n",
              "      <td>1.215831</td>\n",
              "      <td>7.973072</td>\n",
              "      <td>LT8</td>\n",
              "    </tr>\n",
              "  </tbody>\n",
              "</table>\n",
              "</div>\n",
              "      <button class=\"colab-df-convert\" onclick=\"convertToInteractive('df-25975a10-d121-4002-8ecc-6f38e28847ca')\"\n",
              "              title=\"Convert this dataframe to an interactive table.\"\n",
              "              style=\"display:none;\">\n",
              "        \n",
              "  <svg xmlns=\"http://www.w3.org/2000/svg\" height=\"24px\"viewBox=\"0 0 24 24\"\n",
              "       width=\"24px\">\n",
              "    <path d=\"M0 0h24v24H0V0z\" fill=\"none\"/>\n",
              "    <path d=\"M18.56 5.44l.94 2.06.94-2.06 2.06-.94-2.06-.94-.94-2.06-.94 2.06-2.06.94zm-11 1L8.5 8.5l.94-2.06 2.06-.94-2.06-.94L8.5 2.5l-.94 2.06-2.06.94zm10 10l.94 2.06.94-2.06 2.06-.94-2.06-.94-.94-2.06-.94 2.06-2.06.94z\"/><path d=\"M17.41 7.96l-1.37-1.37c-.4-.4-.92-.59-1.43-.59-.52 0-1.04.2-1.43.59L10.3 9.45l-7.72 7.72c-.78.78-.78 2.05 0 2.83L4 21.41c.39.39.9.59 1.41.59.51 0 1.02-.2 1.41-.59l7.78-7.78 2.81-2.81c.8-.78.8-2.07 0-2.86zM5.41 20L4 18.59l7.72-7.72 1.47 1.35L5.41 20z\"/>\n",
              "  </svg>\n",
              "      </button>\n",
              "      \n",
              "  <style>\n",
              "    .colab-df-container {\n",
              "      display:flex;\n",
              "      flex-wrap:wrap;\n",
              "      gap: 12px;\n",
              "    }\n",
              "\n",
              "    .colab-df-convert {\n",
              "      background-color: #E8F0FE;\n",
              "      border: none;\n",
              "      border-radius: 50%;\n",
              "      cursor: pointer;\n",
              "      display: none;\n",
              "      fill: #1967D2;\n",
              "      height: 32px;\n",
              "      padding: 0 0 0 0;\n",
              "      width: 32px;\n",
              "    }\n",
              "\n",
              "    .colab-df-convert:hover {\n",
              "      background-color: #E2EBFA;\n",
              "      box-shadow: 0px 1px 2px rgba(60, 64, 67, 0.3), 0px 1px 3px 1px rgba(60, 64, 67, 0.15);\n",
              "      fill: #174EA6;\n",
              "    }\n",
              "\n",
              "    [theme=dark] .colab-df-convert {\n",
              "      background-color: #3B4455;\n",
              "      fill: #D2E3FC;\n",
              "    }\n",
              "\n",
              "    [theme=dark] .colab-df-convert:hover {\n",
              "      background-color: #434B5C;\n",
              "      box-shadow: 0px 1px 3px 1px rgba(0, 0, 0, 0.15);\n",
              "      filter: drop-shadow(0px 1px 2px rgba(0, 0, 0, 0.3));\n",
              "      fill: #FFFFFF;\n",
              "    }\n",
              "  </style>\n",
              "\n",
              "      <script>\n",
              "        const buttonEl =\n",
              "          document.querySelector('#df-25975a10-d121-4002-8ecc-6f38e28847ca button.colab-df-convert');\n",
              "        buttonEl.style.display =\n",
              "          google.colab.kernel.accessAllowed ? 'block' : 'none';\n",
              "\n",
              "        async function convertToInteractive(key) {\n",
              "          const element = document.querySelector('#df-25975a10-d121-4002-8ecc-6f38e28847ca');\n",
              "          const dataTable =\n",
              "            await google.colab.kernel.invokeFunction('convertToInteractive',\n",
              "                                                     [key], {});\n",
              "          if (!dataTable) return;\n",
              "\n",
              "          const docLinkHtml = 'Like what you see? Visit the ' +\n",
              "            '<a target=\"_blank\" href=https://colab.research.google.com/notebooks/data_table.ipynb>data table notebook</a>'\n",
              "            + ' to learn more about interactive tables.';\n",
              "          element.innerHTML = '';\n",
              "          dataTable['output_type'] = 'display_data';\n",
              "          await google.colab.output.renderOutput(dataTable, element);\n",
              "          const docLink = document.createElement('div');\n",
              "          docLink.innerHTML = docLinkHtml;\n",
              "          element.appendChild(docLink);\n",
              "        }\n",
              "      </script>\n",
              "    </div>\n",
              "  </div>\n",
              "  "
            ]
          },
          "metadata": {},
          "execution_count": 62
        }
      ]
    },
    {
      "cell_type": "code",
      "source": [
        "num_rows = df[df['g'] == 'LT8'].shape[0]\n",
        "print(num_rows)"
      ],
      "metadata": {
        "colab": {
          "base_uri": "https://localhost:8080/"
        },
        "id": "bba0kbw_ZojX",
        "outputId": "a5bbb230-6b4f-47e3-baa5-83cfb86029b4"
      },
      "execution_count": 63,
      "outputs": [
        {
          "output_type": "stream",
          "name": "stdout",
          "text": [
            "16\n"
          ]
        }
      ]
    },
    {
      "cell_type": "code",
      "source": [
        "df['f'].groupby(df['g']).std()"
      ],
      "metadata": {
        "colab": {
          "base_uri": "https://localhost:8080/"
        },
        "id": "9Evk9opNZIXf",
        "outputId": "9c531ccd-a4cc-4290-86aa-89d0e254cb86"
      },
      "execution_count": 64,
      "outputs": [
        {
          "output_type": "execute_result",
          "data": {
            "text/plain": [
              "g\n",
              "GT8    0.091970\n",
              "LT8    0.540709\n",
              "Name: f, dtype: float64"
            ]
          },
          "metadata": {},
          "execution_count": 64
        }
      ]
    },
    {
      "cell_type": "markdown",
      "source": [
        "**12. Write a small piece of code to explain broadcasting in numpy.**"
      ],
      "metadata": {
        "id": "Zbwhsx0e_Xyo"
      }
    },
    {
      "cell_type": "markdown",
      "source": [
        "Broadcasting you to perform elementwise arithmetic operations on arrays with different shapes without any need to reshaping. Smaller array is broadcasted over larger array such that they have compatible shape. For example,"
      ],
      "metadata": {
        "id": "7mvHnzeDCWki"
      }
    },
    {
      "cell_type": "code",
      "source": [
        "a = np.array([1, 2, 3])\n",
        "b = 2\n",
        "print(a*b)\n",
        "#Here \"b\" broadcast to match the size of \"a\"\n",
        "#This is similar to [1, 2, 3] * [2, 2, 2]"
      ],
      "metadata": {
        "colab": {
          "base_uri": "https://localhost:8080/"
        },
        "id": "3o5cv2an-xEk",
        "outputId": "89985052-1cbe-495d-eaa0-cc1e32bee2b8"
      },
      "execution_count": 65,
      "outputs": [
        {
          "output_type": "stream",
          "name": "stdout",
          "text": [
            "[2 4 6]\n"
          ]
        }
      ]
    },
    {
      "cell_type": "code",
      "source": [
        "a = np.array([[10, 20, 30], [40, 50, 60], [70, 80, 90]])\n",
        "b = np.array([1, 2, 3])\n",
        "print(a + b)\n",
        "#Here \"b\" broadcast to match the size of \"a\"\n",
        "# This is similar to [[10, 20, 30]    [[1, 2, 3]\n",
        "#                     [40, 50, 60]  +  [1, 2, 3]\n",
        "#                     [70, 80, 90]]    [1, 2, 3]]"
      ],
      "metadata": {
        "colab": {
          "base_uri": "https://localhost:8080/"
        },
        "id": "sFuo8X05ETB7",
        "outputId": "9985afd9-241b-4dd2-9114-a64b2cafa9fc"
      },
      "execution_count": 66,
      "outputs": [
        {
          "output_type": "stream",
          "name": "stdout",
          "text": [
            "[[11 22 33]\n",
            " [41 52 63]\n",
            " [71 82 93]]\n"
          ]
        }
      ]
    },
    {
      "cell_type": "markdown",
      "source": [
        "**13. Write a function to compute the argmin of a numpy array. The function should take a numpy array as input and return the index of the minimum element. You can use the np.argmin function to verify your solution.**"
      ],
      "metadata": {
        "id": "0y5GC0-jJWi6"
      }
    },
    {
      "cell_type": "code",
      "source": [
        "import numpy as np\n",
        "\n",
        "def compute_argmin(arr):\n",
        "    return arr.argmin()\n",
        "\n",
        "arr = np.array([1, 5, 4, 2, 3, 0, 7, 6, 8])\n",
        "print(compute_argmin(arr))\n"
      ],
      "metadata": {
        "colab": {
          "base_uri": "https://localhost:8080/"
        },
        "id": "N3ecyijZEx73",
        "outputId": "b4bdfe1c-fa0d-4cbb-8ffc-fc26a01bc6df"
      },
      "execution_count": 67,
      "outputs": [
        {
          "output_type": "stream",
          "name": "stdout",
          "text": [
            "5\n"
          ]
        }
      ]
    },
    {
      "cell_type": "code",
      "source": [
        "def check(arr):\n",
        "  return compute_argmin(arr) == np.argmin(arr)\n",
        "\n",
        "check(arr)"
      ],
      "metadata": {
        "colab": {
          "base_uri": "https://localhost:8080/"
        },
        "id": "NjSypcG9JVs6",
        "outputId": "8c10f020-9e0d-4c89-cb6c-ffc17776cad1"
      },
      "execution_count": 68,
      "outputs": [
        {
          "output_type": "execute_result",
          "data": {
            "text/plain": [
              "True"
            ]
          },
          "metadata": {},
          "execution_count": 68
        }
      ]
    },
    {
      "cell_type": "code",
      "source": [],
      "metadata": {
        "id": "ToY81zo9KMWC"
      },
      "execution_count": null,
      "outputs": []
    }
  ]
}