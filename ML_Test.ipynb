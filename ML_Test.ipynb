{
 "cells": [
  {
   "cell_type": "markdown",
   "metadata": {
    "id": "G0fjlzlUQE6z"
   },
   "source": [
    "**1. How many multiplications and additions do you need to perform a matrix multiplication between a (n, k) and (k, m) matrix? Explain**\n",
    "\n",
    "**Answer:**\n",
    "\n",
    "To perform a matrix multiplication between a **(n,k) and (k,m)** matrix, we need **nmk** multiplications and **nm(k-1)** additions.\n",
    "\n",
    "When we multiply 2 matrices of (n x k) and (k x m) dimensions, we will get the resulting matrix of dimensions **(n x m)**. \n",
    "\n",
    "Each element of a resulting matrix is a summation of the product of corresponding elements in the row of (n,k) matrix and column of (k,m) matrix.\n",
    "\n",
    "Thus, multiplication is done **k** times and addition is done **k-1** times to get a single element in a resulting matrix and we appearntly have (n x m) elements in the resulting matrix. \n",
    "\n",
    "Thus, total multiplications = **nmk** and total additions = **nm(k-1)**\n"
   ]
  },
  {
   "cell_type": "code",
   "execution_count": null,
   "metadata": {
    "id": "wQYb1nMeajhI"
   },
   "outputs": [],
   "source": []
  },
  {
   "cell_type": "markdown",
   "metadata": {
    "id": "rsTH3tcOQunV"
   },
   "source": [
    "**2. Write Python code to multiply the above two matrices. Solve using list of lists and then use numpy. Compare the timing of both solutions. Which one is faster? Why?**"
   ]
  },
  {
   "cell_type": "code",
   "execution_count": 1,
   "metadata": {
    "id": "ANqN0rTERlr_"
   },
   "outputs": [],
   "source": [
    "def matrix_multiplication(A, B):\n",
    "  #If no. of columns in matrix A is not equal to no. of rows in matrix B, then matrix multiplication can't be done\n",
    "    if len(A[0]) != len(B):\n",
    "        return None\n",
    "\n",
    "    result = []\n",
    "    for i in range(len(A)):\n",
    "      l = []\n",
    "      for j in range(len(B[0])):\n",
    "        l.append(0)\n",
    "      result.append(l)\n",
    "\n",
    "\n",
    "    for i in range(len(A)):\n",
    "        for j in range(len(B[0])):\n",
    "            for k in range(len(B)):\n",
    "                result[i][j] += A[i][k] * B[k][j]\n",
    "\n",
    "    return result"
   ]
  },
  {
   "cell_type": "code",
   "execution_count": 2,
   "metadata": {
    "id": "0XKKdmsySlim"
   },
   "outputs": [],
   "source": [
    "import numpy as np\n",
    "\n",
    "def matrix_multiplication_numpy(A, B):\n",
    "    return np.matmul(A, B)\n",
    "\n",
    "def matrix_multiplication_numpy2(A, B):\n",
    "  return np.dot(A, B)"
   ]
  },
  {
   "cell_type": "code",
   "execution_count": 3,
   "metadata": {
    "colab": {
     "base_uri": "https://localhost:8080/"
    },
    "id": "CARApX82SrXX",
    "outputId": "7015f1ed-ade6-4c25-e46f-b5d359f0b116"
   },
   "outputs": [
    {
     "name": "stdout",
     "output_type": "stream",
     "text": [
      "Computing Time List of lists: 0.6489228660000208\n",
      "Computing Time Numpy matmul: 0.5777022489999126\n",
      "Computing Time Numpy dot: 0.7583488699999634\n"
     ]
    }
   ],
   "source": [
    "import timeit\n",
    "\n",
    "A = [[1, 2, 3], [4, 5, 6]]\n",
    "B = [[7, 8, 9], [3, 4, 5], [1, 5, 7]]\n",
    "\n",
    "print(\"Computing Time List of lists:\", timeit.timeit('matrix_multiplication(A, B)', globals=globals(), number=100000))\n",
    "print(\"Computing Time Numpy matmul:\", timeit.timeit('matrix_multiplication_numpy(A, B)', globals=globals(), number=100000))\n",
    "print(\"Computing Time Numpy dot:\", timeit.timeit('matrix_multiplication_numpy2(A, B)', globals=globals(), number = 100000))"
   ]
  },
  {
   "cell_type": "markdown",
   "metadata": {
    "id": "p6FXO4FqTZNH"
   },
   "source": [
    "From the result above, we can conclude that the implementation using **numpy is faster compared to the list of lists implementation**. And the reason might be the use of **compiled C code in numpy** over the pure python compilation of list of lists approach. "
   ]
  },
  {
   "cell_type": "code",
   "execution_count": 3,
   "metadata": {
    "id": "d_kOCrDgai2D"
   },
   "outputs": [],
   "source": []
  },
  {
   "cell_type": "markdown",
   "metadata": {
    "id": "0YqjQIpbUKoP"
   },
   "source": [
    "**3. Finding the highest element in a list requires one pass of the array. Finding the second highest element requires 2 passes of the the array. Using this method, what is the time complexity of finding the median of the array? Can you suggest a better method? Can you implement both these methods in Python and compare against numpy.median routine in terms of time?**"
   ]
  },
  {
   "cell_type": "markdown",
   "metadata": {
    "id": "rxNIt1Z1UfPV"
   },
   "source": [
    "Time complexity of finding the median of the array will be **O(n^2)**.\n",
    "Another approach would be to initially sort the array, and then find the median of the array in a single pass. The average time complexity of sorting (merge sort) an array is **O(n logn)**"
   ]
  },
  {
   "cell_type": "code",
   "execution_count": 4,
   "metadata": {
    "id": "JDREhZLPTFSz"
   },
   "outputs": [],
   "source": [
    "def findmedian(arr):\n",
    "    if not arr:\n",
    "        return None\n",
    "    arr.sort()\n",
    "    pivot = arr[len(arr) // 2]\n",
    "    return pivot"
   ]
  },
  {
   "cell_type": "code",
   "execution_count": 5,
   "metadata": {
    "id": "9QAQHM6FWmSY"
   },
   "outputs": [],
   "source": [
    "def findmedian_numpy(arr, k):\n",
    "  return np.median(arr)"
   ]
  },
  {
   "cell_type": "code",
   "execution_count": 6,
   "metadata": {
    "colab": {
     "base_uri": "https://localhost:8080/"
    },
    "id": "BZiD5wqkWVUX",
    "outputId": "73968a48-1774-4374-9258-362a5b5388d1"
   },
   "outputs": [
    {
     "name": "stdout",
     "output_type": "stream",
     "text": [
      "Computing Time sorting: 0.005112373999963893\n",
      "Computing Time np median: 0.19176906300003793\n"
     ]
    }
   ],
   "source": [
    "import timeit\n",
    "\n",
    "arr = [5, 7, 3, 1, 2, 6, 4]\n",
    "#print(findmedian(arr))\n",
    "#print(findmedian_numpy(arr, len(arr)//2))\n",
    "print(\"Computing Time sorting:\", timeit.timeit('findmedian(arr)', globals=globals(), number=10000))\n",
    "print(\"Computing Time np median:\", timeit.timeit('findmedian_numpy(arr, len(arr)//2)', globals=globals(), number=10000))\n"
   ]
  },
  {
   "cell_type": "markdown",
   "metadata": {
    "id": "ENAqFYnbWU4U"
   },
   "source": [
    "From the result above, we can conclude that the **implementation using numpy is slower compared to the sorting approach**. "
   ]
  },
  {
   "cell_type": "code",
   "execution_count": 6,
   "metadata": {
    "id": "H8gXh-CPalJa"
   },
   "outputs": [],
   "source": []
  },
  {
   "cell_type": "markdown",
   "metadata": {
    "id": "dQT993HYYEkd"
   },
   "source": [
    "**4. What is the gradient of the following function with respect to x and y?**  \n",
    "**Answer:**                                                                     \n",
    "The gradient of the given function w.r.to **x** is, **2xy + y^3cos(x)**         \n",
    "The gradient of the given function w.r.to **y** is, **x^2 + 3y^2sin(x)**\n",
    "\n",
    "\n"
   ]
  },
  {
   "cell_type": "code",
   "execution_count": 6,
   "metadata": {
    "id": "Ua2U4E4salnu"
   },
   "outputs": [],
   "source": []
  },
  {
   "cell_type": "markdown",
   "metadata": {
    "id": "1c90Dm67aCTZ"
   },
   "source": [
    "**5. Use JAX to confirm the gradient evaluated by your method matches the analytical solution corresponding to a few random values of x and y**\n",
    "\n"
   ]
  },
  {
   "cell_type": "code",
   "execution_count": 7,
   "metadata": {
    "colab": {
     "base_uri": "https://localhost:8080/"
    },
    "id": "zl-QZGpWaugl",
    "outputId": "a51acfba-767b-45de-e560-92bc73ce4d8e"
   },
   "outputs": [
    {
     "name": "stdout",
     "output_type": "stream",
     "text": [
      "Looking in indexes: https://pypi.org/simple, https://us-python.pkg.dev/colab-wheels/public/simple/\n",
      "Requirement already satisfied: jax in /usr/local/lib/python3.8/dist-packages (0.3.25)\n",
      "Requirement already satisfied: opt-einsum in /usr/local/lib/python3.8/dist-packages (from jax) (3.3.0)\n",
      "Requirement already satisfied: numpy>=1.20 in /usr/local/lib/python3.8/dist-packages (from jax) (1.21.6)\n",
      "Requirement already satisfied: scipy>=1.5 in /usr/local/lib/python3.8/dist-packages (from jax) (1.7.3)\n",
      "Requirement already satisfied: typing-extensions in /usr/local/lib/python3.8/dist-packages (from jax) (4.4.0)\n"
     ]
    }
   ],
   "source": [
    "!pip install jax"
   ]
  },
  {
   "cell_type": "code",
   "execution_count": 12,
   "metadata": {
    "colab": {
     "base_uri": "https://localhost:8080/"
    },
    "id": "RbhIWQLGvMpW",
    "outputId": "c4f8be52-5e94-4773-b2de-61f35e2e7416"
   },
   "outputs": [
    {
     "name": "stdout",
     "output_type": "stream",
     "text": [
      "Gradient w.r.to x: 0.7640362\n",
      "Gradient w.r.to y: 28.551031\n"
     ]
    }
   ],
   "source": [
    "import jax.numpy as jnp\n",
    "from jax import grad\n",
    "\n",
    "def f(x,y):\n",
    "  return (x**2)*y + (y**3)*jnp.sin(x)\n",
    "\n",
    "dfdx, dfdy = grad(f, [0, 1])(2.0, 3.0)\n",
    "\n",
    "print(\"Gradient w.r.to x:\", dfdx)\n",
    "print(\"Gradient w.r.to y:\", dfdy)"
   ]
  },
  {
   "cell_type": "markdown",
   "metadata": {
    "id": "RDaTCWr6aJ1y"
   },
   "source": [
    "**6. Use sympy to confirm that you obtain the same gradient analytically.**"
   ]
  },
  {
   "cell_type": "code",
   "execution_count": 15,
   "metadata": {
    "colab": {
     "base_uri": "https://localhost:8080/"
    },
    "id": "x4cgbxiFXxjW",
    "outputId": "15c49e6b-31a2-404a-c44c-8b916f5941c7"
   },
   "outputs": [
    {
     "name": "stdout",
     "output_type": "stream",
     "text": [
      "2*x*y + y**3*cos(x)\n",
      "x**2 + 3*y**2*sin(x)\n"
     ]
    }
   ],
   "source": [
    "import sympy as sp\n",
    "\n",
    "x, y = sp.symbols('x y')\n",
    "\n",
    "f = (x**2)*y + (y**3)*sp.sin(x)\n",
    "\n",
    "#To take derivative we use 'diff' function in sympy\n",
    "\n",
    "delta_x = sp.diff(f, x)\n",
    "delta_y = sp.diff(f, y)\n",
    "\n",
    "print(delta_x)  \n",
    "print(delta_y)"
   ]
  },
  {
   "cell_type": "markdown",
   "metadata": {
    "id": "Ub5LufYVcIe2"
   },
   "source": [
    "Results Verified !"
   ]
  },
  {
   "cell_type": "code",
   "execution_count": 15,
   "metadata": {
    "id": "bxyi61gAb72q"
   },
   "outputs": [],
   "source": []
  },
  {
   "cell_type": "markdown",
   "metadata": {
    "id": "fNORGzh9cNuS"
   },
   "source": [
    "**7. Create a Python nested dictionary to represent hierarchical information. We want to store record of students and their marks.**"
   ]
  },
  {
   "cell_type": "code",
   "execution_count": 17,
   "metadata": {
    "id": "c18cJtztcZDR"
   },
   "outputs": [],
   "source": [
    "Students = {\n",
    "    2022: {\n",
    "        'Branch 1': {\n",
    "            1: {'Name': 'N',\n",
    "                'Marks': {'Maths': 100, 'English': 70 #Add more courses/marks\n",
    "                          }},\n",
    "            # Add more students\n",
    "        },\n",
    "        'Branch 2': {\n",
    "            41: {'Name': 'M', 'Marks': {'Maths': 90, 'English': 90}},\n",
    "            # more students\n",
    "        },\n",
    "    },\n",
    "    2023: {\n",
    "        'Branch 1': {\n",
    "            1: {'Name': 'Name1', 'Marks': {'Maths': 100, 'English': 70}},\n",
    "            # Add more students\n",
    "        },\n",
    "        'Branch 2': {\n",
    "            41: {'Name': 'Name2', 'Marks': {'Maths': 90, 'English': 90}},\n",
    "            # more students\n",
    "        },\n",
    "    },\n",
    "    2024: {\n",
    "        'Branch 1': {\n",
    "            1: {'Name': 'Name1', 'Marks': {'Maths': 100, 'English': 70}},\n",
    "            # Add more students\n",
    "        },\n",
    "        'Branch 2': {\n",
    "            41: {'Name': 'Name2', 'Marks': {'Maths': 90, 'English': 90}},\n",
    "            # more students\n",
    "        },\n",
    "    },\n",
    "    2025: {\n",
    "        'Branch 1': {\n",
    "            1: {'Name': 'Name1', 'Marks': {'Maths': 100, 'English': 70}},\n",
    "            # Add more students\n",
    "        },\n",
    "        'Branch 2': {\n",
    "            41: {'Name': 'Name2', 'Marks': {'Maths': 90, 'English': 90}},\n",
    "            # more students\n",
    "        },\n",
    "    },\n",
    "}\n"
   ]
  },
  {
   "cell_type": "markdown",
   "metadata": {
    "id": "zfErg4m-eB3A"
   },
   "source": [
    "Here, keys in the value dictionary of 'Branch 1' and 'Branch 2' represent the Roll Numbers of students, and the values contains Name and Marks of the students."
   ]
  },
  {
   "cell_type": "code",
   "execution_count": 17,
   "metadata": {
    "id": "rQQ0QBh7eQHI"
   },
   "outputs": [],
   "source": []
  },
  {
   "cell_type": "markdown",
   "metadata": {
    "id": "UkKLi9NlczNf"
   },
   "source": [
    "**8. Store the same information using Python classes. We have an overall database which is a list of year objects. Each year contains a list of branches. Each branch contains a list of students. Each student has some properties like name, roll number and has marks in some subjects.**\n",
    "\n"
   ]
  },
  {
   "cell_type": "code",
   "execution_count": 21,
   "metadata": {
    "id": "vC_b0odUc4Zo"
   },
   "outputs": [],
   "source": [
    "class Year:\n",
    "    def __init__(self, branches):\n",
    "        self.branches = branches\n",
    "\n",
    "\n",
    "class Branch:\n",
    "    def __init__(self, students):\n",
    "        self.students = students\n",
    "\n",
    "      \n",
    "class Student:\n",
    "    def __init__(self, Name, RollNumber, marks):\n",
    "        self.Name = Name\n",
    "        self.RollNumber = RollNumber\n",
    "        self.marks = marks\n",
    "\n",
    "\n",
    "class Database:\n",
    "    def __init__(self, years):\n",
    "        self.years = years\n",
    "\n",
    "# Define instances of class Student\n",
    "student1 = Student('Name1', 1, {'Maths': 100, 'English': 70})\n",
    "student2 = Student('Name2', 2, {'Maths': 90, 'English': 90})\n",
    "\n",
    "# Define instances of class Branch\n",
    "Branch1 = Branch([student1, student2])\n",
    "Branch2 = Branch([student1])\n",
    "\n",
    "# Define instances of class Year\n",
    "year1 = Year([Branch1, Branch2])\n",
    "year2 = Year([Branch1])\n",
    "\n",
    "# Define instances of class Database\n",
    "database = Database([year1, year2])"
   ]
  },
  {
   "cell_type": "markdown",
   "metadata": {
    "id": "1mOAvSaJfI0B"
   },
   "source": [
    "In this example, the **Database** class has a list of **Year** objects as an attribute, each **Year** object has a list of **Branch** objects as an attribute, and each **Branch** object has a list of **Student** objects as an attribute. Each **Student** object has a **Name, RollNumber, and a dictionary of marks** as attributes."
   ]
  },
  {
   "cell_type": "markdown",
   "metadata": {
    "id": "x20cAeWCgKOk"
   },
   "source": [
    "**9. Using matplotlib plot the following functions on the domain: x = 0.5 to 100.0 in steps of 0.5.**"
   ]
  },
  {
   "cell_type": "markdown",
   "metadata": {
    "id": "1AiIgNSB8Fb6"
   },
   "source": [
    "i) y = x"
   ]
  },
  {
   "cell_type": "code",
   "execution_count": 22,
   "metadata": {
    "colab": {
     "base_uri": "https://localhost:8080/",
     "height": 279
    },
    "id": "IhVemnPye9Kr",
    "outputId": "53ae7bdb-f361-4202-d17e-28599a7bbad2"
   },
   "outputs": [
    {
     "data": {
      "image/png": "[encoded data removed]",
      "text/plain": [
       "<Figure size 432x288 with 1 Axes>"
      ]
     },
     "metadata": {
      "needs_background": "light"
     },
     "output_type": "display_data"
    }
   ],
   "source": [
    "import numpy as np\n",
    "import matplotlib.pyplot as plt\n",
    "\n",
    "x = [x for x in np.arange(0.5, 100.0, 0.5)]\n",
    "y = x\n",
    "\n",
    "plt.plot(x, y)\n",
    "\n",
    "plt.xlabel('x')\n",
    "plt.ylabel('y')\n",
    "plt.show()\n"
   ]
  },
  {
   "cell_type": "markdown",
   "metadata": {
    "id": "1u-OkRdt9gTj"
   },
   "source": [
    "ii) y = x^2"
   ]
  },
  {
   "cell_type": "code",
   "execution_count": 23,
   "metadata": {
    "colab": {
     "base_uri": "https://localhost:8080/",
     "height": 279
    },
    "id": "1qGpp80D8Obq",
    "outputId": "68d7eebe-0a37-460b-ea9f-5841af36a3b8"
   },
   "outputs": [
    {
     "data": {
      "image/png": "[encoded data removed]",
      "text/plain": [
       "<Figure size 432x288 with 1 Axes>"
      ]
     },
     "metadata": {
      "needs_background": "light"
     },
     "output_type": "display_data"
    }
   ],
   "source": [
    "import numpy as np\n",
    "import matplotlib.pyplot as plt\n",
    "\n",
    "x = np.array([x for x in np.arange(0.5, 100.0, 0.5)])\n",
    "y = x**2\n",
    "#print(y)\n",
    "plt.plot(x, y)\n",
    "\n",
    "plt.xlabel('x^2')\n",
    "plt.ylabel('y')\n",
    "plt.show()"
   ]
  },
  {
   "cell_type": "markdown",
   "metadata": {
    "id": "aV6vXrkJ9v6a"
   },
   "source": [
    "iii) y = x^3/100"
   ]
  },
  {
   "cell_type": "code",
   "execution_count": 24,
   "metadata": {
    "colab": {
     "base_uri": "https://localhost:8080/",
     "height": 279
    },
    "id": "DLQ27S1P9oSf",
    "outputId": "4e2d6ce9-914e-4397-ad58-fb6e29c8389c"
   },
   "outputs": [
    {
     "data": {
      "image/png": "[encoded data removed]",
      "text/plain": [
       "<Figure size 432x288 with 1 Axes>"
      ]
     },
     "metadata": {
      "needs_background": "light"
     },
     "output_type": "display_data"
    }
   ],
   "source": [
    "import numpy as np\n",
    "import matplotlib.pyplot as plt\n",
    "\n",
    "x = np.array([x for x in np.arange(0.5, 100.0, 0.5)])\n",
    "y = x**3/100\n",
    "#print(y)\n",
    "\n",
    "plt.plot(x, y)\n",
    "\n",
    "plt.xlabel('x^3/100')\n",
    "plt.ylabel('y')\n",
    "plt.show()"
   ]
  },
  {
   "cell_type": "markdown",
   "metadata": {
    "id": "xs2Vbd8m-cVp"
   },
   "source": [
    "iv) y = sin(x)"
   ]
  },
  {
   "cell_type": "code",
   "execution_count": 25,
   "metadata": {
    "colab": {
     "base_uri": "https://localhost:8080/",
     "height": 279
    },
    "id": "Yb6p-tWy98fW",
    "outputId": "23652308-13c0-45e2-b2bf-5d883307e746"
   },
   "outputs": [
    {
     "data": {
      "image/png": "[encoded data removed]",
      "text/plain": [
       "<Figure size 432x288 with 1 Axes>"
      ]
     },
     "metadata": {
      "needs_background": "light"
     },
     "output_type": "display_data"
    }
   ],
   "source": [
    "import numpy as np\n",
    "import matplotlib.pyplot as plt\n",
    "\n",
    "x = np.array([x for x in np.arange(0.5, 100.0, 0.5)])\n",
    "y = np.sin(x)\n",
    "#print(y)\n",
    "\n",
    "plt.plot(x, y)\n",
    "\n",
    "plt.xlabel('sin(x)')\n",
    "plt.ylabel('y')\n",
    "plt.show()"
   ]
  },
  {
   "cell_type": "markdown",
   "metadata": {
    "id": "RddczbHY-kI5"
   },
   "source": [
    "v) y = sin(x)/x"
   ]
  },
  {
   "cell_type": "code",
   "execution_count": 27,
   "metadata": {
    "colab": {
     "base_uri": "https://localhost:8080/",
     "height": 280
    },
    "id": "RSAVwj2v-YR_",
    "outputId": "66e145a2-1722-45b6-be59-283cf9436afc"
   },
   "outputs": [
    {
     "data": {
      "image/png": "[encoded data removed]",
      "text/plain": [
       "<Figure size 432x288 with 1 Axes>"
      ]
     },
     "metadata": {
      "needs_background": "light"
     },
     "output_type": "display_data"
    }
   ],
   "source": [
    "import numpy as np\n",
    "import matplotlib.pyplot as plt\n",
    "\n",
    "x = np.array([x for x in np.arange(0.5, 100.0, 0.5)])\n",
    "y = np.sin(x)/x\n",
    "#print(y)\n",
    "\n",
    "plt.plot(x, y)\n",
    "\n",
    "plt.xlabel('sin(x)/x')\n",
    "plt.ylabel('y')\n",
    "plt.show()"
   ]
  },
  {
   "cell_type": "markdown",
   "metadata": {
    "id": "zhgxqo20-nVG"
   },
   "source": [
    "vi) y = log(x)"
   ]
  },
  {
   "cell_type": "code",
   "execution_count": 28,
   "metadata": {
    "colab": {
     "base_uri": "https://localhost:8080/",
     "height": 279
    },
    "id": "mWg4BijQ-rPw",
    "outputId": "85dfef02-fc9a-4b31-a76e-944f66728872"
   },
   "outputs": [
    {
     "data": {
      "image/png": "[encoded data removed]",
      "text/plain": [
       "<Figure size 432x288 with 1 Axes>"
      ]
     },
     "metadata": {
      "needs_background": "light"
     },
     "output_type": "display_data"
    }
   ],
   "source": [
    "import numpy as np\n",
    "import matplotlib.pyplot as plt\n",
    "\n",
    "x = np.array([x for x in np.arange(0.5, 100.0, 0.5)])\n",
    "y = np.log(x)\n",
    "#print(y)\n",
    "\n",
    "plt.plot(x, y)\n",
    "\n",
    "plt.xlabel('log(x)')\n",
    "plt.ylabel('y')\n",
    "plt.show()"
   ]
  },
  {
   "cell_type": "markdown",
   "metadata": {
    "id": "S6644edD-qmn"
   },
   "source": [
    "vii) y = e^x"
   ]
  },
  {
   "cell_type": "code",
   "execution_count": 29,
   "metadata": {
    "colab": {
     "base_uri": "https://localhost:8080/",
     "height": 290
    },
    "id": "vH7RGBdy-xU-",
    "outputId": "d6eb7dff-8e8a-483e-ee40-489adc01253e"
   },
   "outputs": [
    {
     "data": {
      "image/png": "[encoded data removed]",
      "text/plain": [
       "<Figure size 432x288 with 1 Axes>"
      ]
     },
     "metadata": {
      "needs_background": "light"
     },
     "output_type": "display_data"
    }
   ],
   "source": [
    "import numpy as np\n",
    "import matplotlib.pyplot as plt\n",
    "\n",
    "x = np.array([x for x in np.arange(0.5, 100.0, 0.5)])\n",
    "y = np.exp(x)\n",
    "#print(y)\n",
    "\n",
    "plt.plot(x, y)\n",
    "\n",
    "plt.xlabel('e^x')\n",
    "plt.ylabel('y')\n",
    "plt.show()"
   ]
  },
  {
   "cell_type": "markdown",
   "metadata": {
    "id": "xrzSNpqU_qkh"
   },
   "source": [
    "**10. Using numpy generate a matrix of size 20X5 containing random numbers drawn uniformly from the range of 1 to 2. Using Pandas create a dataframe out of this matrix. Name the columns of the dataframe as “a”, “b”, “c”, “d”, “e”. Find the column with the highest standard deviation. Find the row with the lowest mean.**"
   ]
  },
  {
   "cell_type": "code",
   "execution_count": 30,
   "metadata": {
    "colab": {
     "base_uri": "https://localhost:8080/"
    },
    "id": "j1OaBzxd-5sz",
    "outputId": "33906126-9671-4f4e-eaad-9008caa17bb6"
   },
   "outputs": [
    {
     "name": "stdout",
     "output_type": "stream",
     "text": [
      "Column with the highest standard deviation is: b\n",
      "Row with the lowest mean is: 8\n"
     ]
    }
   ],
   "source": [
    "df = np.random.uniform(1, 2, (20, 5))\n",
    "import pandas as pd\n",
    "\n",
    "df = pd.DataFrame(df, columns = ['a', 'b', 'c', 'd', 'e'])\n",
    "#print(df)\n",
    "s = df.std()\n",
    "m = df.mean(axis = 1)\n",
    "print(\"Column with the highest standard deviation is:\", s.idxmax())\n",
    "print(\"Row with the lowest mean is:\", m.idxmin())"
   ]
  },
  {
   "cell_type": "markdown",
   "metadata": {
    "id": "lF7s_8joEzv0"
   },
   "source": [
    "**11. Add a new column to the dataframe called “f” which is the sum of the columns “a”, “b”, “c”, “d”, “e”. Create another column called “g”. The value in the column “g” should be “LT8” if the value in the column “f” is less than 8 and “GT8” otherwise. Find the number of rows in the dataframe where the value in the column “g” is “LT8”. Find the standard deviation of the column “f” for the rows where the value in the column “g” is “LT8” and “GT8” respectively.**"
   ]
  },
  {
   "cell_type": "code",
   "execution_count": 31,
   "metadata": {
    "id": "7EgdMQsqBORp"
   },
   "outputs": [],
   "source": [
    "f = df['a'] + df['b'] + df['c'] + df['d'] + df['e']\n",
    "df['f'] = f\n",
    "g = np.where(df['f'] > 8, 'GT8', 'LT8')\n",
    "df['g'] = g"
   ]
  },
  {
   "cell_type": "code",
   "execution_count": 32,
   "metadata": {
    "colab": {
     "base_uri": "https://localhost:8080/",
     "height": 676
    },
    "id": "3rB2WqLQFLKS",
    "outputId": "06fe9ad3-7e0c-4ce1-ef72-dc0ab7cb0b15"
   },
   "outputs": [
    {
     "data": {
      "text/html": [
       "\n",
       "  <div id=\"df-1bac3d52-35da-495c-9c91-9b3858370b57\">\n",
       "    <div class=\"colab-df-container\">\n",
       "      <div>\n",
       "<style scoped>\n",
       "    .dataframe tbody tr th:only-of-type {\n",
       "        vertical-align: middle;\n",
       "    }\n",
       "\n",
       "    .dataframe tbody tr th {\n",
       "        vertical-align: top;\n",
       "    }\n",
       "\n",
       "    .dataframe thead th {\n",
       "        text-align: right;\n",
       "    }\n",
       "</style>\n",
       "<table border=\"1\" class=\"dataframe\">\n",
       "  <thead>\n",
       "    <tr style=\"text-align: right;\">\n",
       "      <th></th>\n",
       "      <th>a</th>\n",
       "      <th>b</th>\n",
       "      <th>c</th>\n",
       "      <th>d</th>\n",
       "      <th>e</th>\n",
       "      <th>f</th>\n",
       "      <th>g</th>\n",
       "    </tr>\n",
       "  </thead>\n",
       "  <tbody>\n",
       "    <tr>\n",
       "      <th>0</th>\n",
       "      <td>1.557993</td>\n",
       "      <td>1.146070</td>\n",
       "      <td>1.058234</td>\n",
       "      <td>1.759398</td>\n",
       "      <td>1.326919</td>\n",
       "      <td>6.848614</td>\n",
       "      <td>LT8</td>\n",
       "    </tr>\n",
       "    <tr>\n",
       "      <th>1</th>\n",
       "      <td>1.719572</td>\n",
       "      <td>1.520881</td>\n",
       "      <td>1.449340</td>\n",
       "      <td>1.512084</td>\n",
       "      <td>1.077924</td>\n",
       "      <td>7.279801</td>\n",
       "      <td>LT8</td>\n",
       "    </tr>\n",
       "    <tr>\n",
       "      <th>2</th>\n",
       "      <td>1.440364</td>\n",
       "      <td>1.000636</td>\n",
       "      <td>1.367541</td>\n",
       "      <td>1.479108</td>\n",
       "      <td>1.648701</td>\n",
       "      <td>6.936349</td>\n",
       "      <td>LT8</td>\n",
       "    </tr>\n",
       "    <tr>\n",
       "      <th>3</th>\n",
       "      <td>1.776329</td>\n",
       "      <td>1.407632</td>\n",
       "      <td>1.338974</td>\n",
       "      <td>1.437981</td>\n",
       "      <td>1.628234</td>\n",
       "      <td>7.589150</td>\n",
       "      <td>LT8</td>\n",
       "    </tr>\n",
       "    <tr>\n",
       "      <th>4</th>\n",
       "      <td>1.297127</td>\n",
       "      <td>1.679813</td>\n",
       "      <td>1.773741</td>\n",
       "      <td>1.633529</td>\n",
       "      <td>1.851971</td>\n",
       "      <td>8.236180</td>\n",
       "      <td>GT8</td>\n",
       "    </tr>\n",
       "    <tr>\n",
       "      <th>5</th>\n",
       "      <td>1.092287</td>\n",
       "      <td>1.885269</td>\n",
       "      <td>1.931597</td>\n",
       "      <td>1.798339</td>\n",
       "      <td>1.850124</td>\n",
       "      <td>8.557616</td>\n",
       "      <td>GT8</td>\n",
       "    </tr>\n",
       "    <tr>\n",
       "      <th>6</th>\n",
       "      <td>1.708316</td>\n",
       "      <td>1.359224</td>\n",
       "      <td>1.090678</td>\n",
       "      <td>1.756859</td>\n",
       "      <td>1.304163</td>\n",
       "      <td>7.219240</td>\n",
       "      <td>LT8</td>\n",
       "    </tr>\n",
       "    <tr>\n",
       "      <th>7</th>\n",
       "      <td>1.898278</td>\n",
       "      <td>1.011968</td>\n",
       "      <td>1.739638</td>\n",
       "      <td>1.318670</td>\n",
       "      <td>1.803344</td>\n",
       "      <td>7.771898</td>\n",
       "      <td>LT8</td>\n",
       "    </tr>\n",
       "    <tr>\n",
       "      <th>8</th>\n",
       "      <td>1.170154</td>\n",
       "      <td>1.160739</td>\n",
       "      <td>1.414281</td>\n",
       "      <td>1.105746</td>\n",
       "      <td>1.764707</td>\n",
       "      <td>6.615627</td>\n",
       "      <td>LT8</td>\n",
       "    </tr>\n",
       "    <tr>\n",
       "      <th>9</th>\n",
       "      <td>1.182316</td>\n",
       "      <td>1.551734</td>\n",
       "      <td>1.745014</td>\n",
       "      <td>1.271068</td>\n",
       "      <td>1.069973</td>\n",
       "      <td>6.820106</td>\n",
       "      <td>LT8</td>\n",
       "    </tr>\n",
       "    <tr>\n",
       "      <th>10</th>\n",
       "      <td>1.403035</td>\n",
       "      <td>1.943177</td>\n",
       "      <td>1.122892</td>\n",
       "      <td>1.545853</td>\n",
       "      <td>1.767408</td>\n",
       "      <td>7.782365</td>\n",
       "      <td>LT8</td>\n",
       "    </tr>\n",
       "    <tr>\n",
       "      <th>11</th>\n",
       "      <td>1.269921</td>\n",
       "      <td>1.175527</td>\n",
       "      <td>1.256326</td>\n",
       "      <td>1.810834</td>\n",
       "      <td>1.958410</td>\n",
       "      <td>7.471017</td>\n",
       "      <td>LT8</td>\n",
       "    </tr>\n",
       "    <tr>\n",
       "      <th>12</th>\n",
       "      <td>1.702761</td>\n",
       "      <td>1.361470</td>\n",
       "      <td>1.384823</td>\n",
       "      <td>1.728621</td>\n",
       "      <td>1.745484</td>\n",
       "      <td>7.923158</td>\n",
       "      <td>LT8</td>\n",
       "    </tr>\n",
       "    <tr>\n",
       "      <th>13</th>\n",
       "      <td>1.307061</td>\n",
       "      <td>1.364627</td>\n",
       "      <td>1.251136</td>\n",
       "      <td>1.835331</td>\n",
       "      <td>1.669843</td>\n",
       "      <td>7.427998</td>\n",
       "      <td>LT8</td>\n",
       "    </tr>\n",
       "    <tr>\n",
       "      <th>14</th>\n",
       "      <td>1.520117</td>\n",
       "      <td>1.021921</td>\n",
       "      <td>1.348149</td>\n",
       "      <td>1.107302</td>\n",
       "      <td>1.673879</td>\n",
       "      <td>6.671367</td>\n",
       "      <td>LT8</td>\n",
       "    </tr>\n",
       "    <tr>\n",
       "      <th>15</th>\n",
       "      <td>1.330377</td>\n",
       "      <td>1.131000</td>\n",
       "      <td>1.850702</td>\n",
       "      <td>1.957554</td>\n",
       "      <td>1.766340</td>\n",
       "      <td>8.035973</td>\n",
       "      <td>GT8</td>\n",
       "    </tr>\n",
       "    <tr>\n",
       "      <th>16</th>\n",
       "      <td>1.791056</td>\n",
       "      <td>1.258340</td>\n",
       "      <td>1.164967</td>\n",
       "      <td>1.189452</td>\n",
       "      <td>1.572505</td>\n",
       "      <td>6.976319</td>\n",
       "      <td>LT8</td>\n",
       "    </tr>\n",
       "    <tr>\n",
       "      <th>17</th>\n",
       "      <td>1.154928</td>\n",
       "      <td>1.589851</td>\n",
       "      <td>1.409369</td>\n",
       "      <td>1.777504</td>\n",
       "      <td>1.123551</td>\n",
       "      <td>7.055203</td>\n",
       "      <td>LT8</td>\n",
       "    </tr>\n",
       "    <tr>\n",
       "      <th>18</th>\n",
       "      <td>1.675846</td>\n",
       "      <td>1.895017</td>\n",
       "      <td>1.447978</td>\n",
       "      <td>1.922652</td>\n",
       "      <td>1.949386</td>\n",
       "      <td>8.890878</td>\n",
       "      <td>GT8</td>\n",
       "    </tr>\n",
       "    <tr>\n",
       "      <th>19</th>\n",
       "      <td>1.792475</td>\n",
       "      <td>1.990764</td>\n",
       "      <td>1.444479</td>\n",
       "      <td>1.021632</td>\n",
       "      <td>1.347322</td>\n",
       "      <td>7.596673</td>\n",
       "      <td>LT8</td>\n",
       "    </tr>\n",
       "  </tbody>\n",
       "</table>\n",
       "</div>\n",
       "      <button class=\"colab-df-convert\" onclick=\"convertToInteractive('df-1bac3d52-35da-495c-9c91-9b3858370b57')\"\n",
       "              title=\"Convert this dataframe to an interactive table.\"\n",
       "              style=\"display:none;\">\n",
       "        \n",
       "  <svg xmlns=\"http://www.w3.org/2000/svg\" height=\"24px\"viewBox=\"0 0 24 24\"\n",
       "       width=\"24px\">\n",
       "    <path d=\"M0 0h24v24H0V0z\" fill=\"none\"/>\n",
       "    <path d=\"M18.56 5.44l.94 2.06.94-2.06 2.06-.94-2.06-.94-.94-2.06-.94 2.06-2.06.94zm-11 1L8.5 8.5l.94-2.06 2.06-.94-2.06-.94L8.5 2.5l-.94 2.06-2.06.94zm10 10l.94 2.06.94-2.06 2.06-.94-2.06-.94-.94-2.06-.94 2.06-2.06.94z\"/><path d=\"M17.41 7.96l-1.37-1.37c-.4-.4-.92-.59-1.43-.59-.52 0-1.04.2-1.43.59L10.3 9.45l-7.72 7.72c-.78.78-.78 2.05 0 2.83L4 21.41c.39.39.9.59 1.41.59.51 0 1.02-.2 1.41-.59l7.78-7.78 2.81-2.81c.8-.78.8-2.07 0-2.86zM5.41 20L4 18.59l7.72-7.72 1.47 1.35L5.41 20z\"/>\n",
       "  </svg>\n",
       "      </button>\n",
       "      \n",
       "  <style>\n",
       "    .colab-df-container {\n",
       "      display:flex;\n",
       "      flex-wrap:wrap;\n",
       "      gap: 12px;\n",
       "    }\n",
       "\n",
       "    .colab-df-convert {\n",
       "      background-color: #E8F0FE;\n",
       "      border: none;\n",
       "      border-radius: 50%;\n",
       "      cursor: pointer;\n",
       "      display: none;\n",
       "      fill: #1967D2;\n",
       "      height: 32px;\n",
       "      padding: 0 0 0 0;\n",
       "      width: 32px;\n",
       "    }\n",
       "\n",
       "    .colab-df-convert:hover {\n",
       "      background-color: #E2EBFA;\n",
       "      box-shadow: 0px 1px 2px rgba(60, 64, 67, 0.3), 0px 1px 3px 1px rgba(60, 64, 67, 0.15);\n",
       "      fill: #174EA6;\n",
       "    }\n",
       "\n",
       "    [theme=dark] .colab-df-convert {\n",
       "      background-color: #3B4455;\n",
       "      fill: #D2E3FC;\n",
       "    }\n",
       "\n",
       "    [theme=dark] .colab-df-convert:hover {\n",
       "      background-color: #434B5C;\n",
       "      box-shadow: 0px 1px 3px 1px rgba(0, 0, 0, 0.15);\n",
       "      filter: drop-shadow(0px 1px 2px rgba(0, 0, 0, 0.3));\n",
       "      fill: #FFFFFF;\n",
       "    }\n",
       "  </style>\n",
       "\n",
       "      <script>\n",
       "        const buttonEl =\n",
       "          document.querySelector('#df-1bac3d52-35da-495c-9c91-9b3858370b57 button.colab-df-convert');\n",
       "        buttonEl.style.display =\n",
       "          google.colab.kernel.accessAllowed ? 'block' : 'none';\n",
       "\n",
       "        async function convertToInteractive(key) {\n",
       "          const element = document.querySelector('#df-1bac3d52-35da-495c-9c91-9b3858370b57');\n",
       "          const dataTable =\n",
       "            await google.colab.kernel.invokeFunction('convertToInteractive',\n",
       "                                                     [key], {});\n",
       "          if (!dataTable) return;\n",
       "\n",
       "          const docLinkHtml = 'Like what you see? Visit the ' +\n",
       "            '<a target=\"_blank\" href=https://colab.research.google.com/notebooks/data_table.ipynb>data table notebook</a>'\n",
       "            + ' to learn more about interactive tables.';\n",
       "          element.innerHTML = '';\n",
       "          dataTable['output_type'] = 'display_data';\n",
       "          await google.colab.output.renderOutput(dataTable, element);\n",
       "          const docLink = document.createElement('div');\n",
       "          docLink.innerHTML = docLinkHtml;\n",
       "          element.appendChild(docLink);\n",
       "        }\n",
       "      </script>\n",
       "    </div>\n",
       "  </div>\n",
       "  "
      ],
      "text/plain": [
       "           a         b         c         d         e         f    g\n",
       "0   1.557993  1.146070  1.058234  1.759398  1.326919  6.848614  LT8\n",
       "1   1.719572  1.520881  1.449340  1.512084  1.077924  7.279801  LT8\n",
       "2   1.440364  1.000636  1.367541  1.479108  1.648701  6.936349  LT8\n",
       "3   1.776329  1.407632  1.338974  1.437981  1.628234  7.589150  LT8\n",
       "4   1.297127  1.679813  1.773741  1.633529  1.851971  8.236180  GT8\n",
       "5   1.092287  1.885269  1.931597  1.798339  1.850124  8.557616  GT8\n",
       "6   1.708316  1.359224  1.090678  1.756859  1.304163  7.219240  LT8\n",
       "7   1.898278  1.011968  1.739638  1.318670  1.803344  7.771898  LT8\n",
       "8   1.170154  1.160739  1.414281  1.105746  1.764707  6.615627  LT8\n",
       "9   1.182316  1.551734  1.745014  1.271068  1.069973  6.820106  LT8\n",
       "10  1.403035  1.943177  1.122892  1.545853  1.767408  7.782365  LT8\n",
       "11  1.269921  1.175527  1.256326  1.810834  1.958410  7.471017  LT8\n",
       "12  1.702761  1.361470  1.384823  1.728621  1.745484  7.923158  LT8\n",
       "13  1.307061  1.364627  1.251136  1.835331  1.669843  7.427998  LT8\n",
       "14  1.520117  1.021921  1.348149  1.107302  1.673879  6.671367  LT8\n",
       "15  1.330377  1.131000  1.850702  1.957554  1.766340  8.035973  GT8\n",
       "16  1.791056  1.258340  1.164967  1.189452  1.572505  6.976319  LT8\n",
       "17  1.154928  1.589851  1.409369  1.777504  1.123551  7.055203  LT8\n",
       "18  1.675846  1.895017  1.447978  1.922652  1.949386  8.890878  GT8\n",
       "19  1.792475  1.990764  1.444479  1.021632  1.347322  7.596673  LT8"
      ]
     },
     "execution_count": 32,
     "metadata": {},
     "output_type": "execute_result"
    }
   ],
   "source": [
    "df"
   ]
  },
  {
   "cell_type": "code",
   "execution_count": 33,
   "metadata": {
    "colab": {
     "base_uri": "https://localhost:8080/"
    },
    "id": "bba0kbw_ZojX",
    "outputId": "ae5280bf-201d-4750-f969-8bbaeac5a6c4"
   },
   "outputs": [
    {
     "name": "stdout",
     "output_type": "stream",
     "text": [
      "16\n"
     ]
    }
   ],
   "source": [
    "num_rows = df[df['g'] == 'LT8'].shape[0]\n",
    "print(num_rows)"
   ]
  },
  {
   "cell_type": "code",
   "execution_count": 34,
   "metadata": {
    "colab": {
     "base_uri": "https://localhost:8080/"
    },
    "id": "9Evk9opNZIXf",
    "outputId": "43ec858c-7435-43aa-f91e-0361198d83ec"
   },
   "outputs": [
    {
     "data": {
      "text/plain": [
       "g\n",
       "GT8    0.374841\n",
       "LT8    0.418001\n",
       "Name: f, dtype: float64"
      ]
     },
     "execution_count": 34,
     "metadata": {},
     "output_type": "execute_result"
    }
   ],
   "source": [
    "df['f'].groupby(df['g']).std()"
   ]
  },
  {
   "cell_type": "markdown",
   "metadata": {
    "id": "Zbwhsx0e_Xyo"
   },
   "source": [
    "**12. Write a small piece of code to explain broadcasting in numpy.**"
   ]
  },
  {
   "cell_type": "markdown",
   "metadata": {
    "id": "7mvHnzeDCWki"
   },
   "source": [
    "Broadcasting you to perform elementwise arithmetic operations on arrays with different shapes without any need to reshaping. Smaller array is broadcasted over larger array such that they have compatible shape. For example,"
   ]
  },
  {
   "cell_type": "code",
   "execution_count": 35,
   "metadata": {
    "colab": {
     "base_uri": "https://localhost:8080/"
    },
    "id": "3o5cv2an-xEk",
    "outputId": "556d3721-dbba-4b1f-cc50-549efd42762c"
   },
   "outputs": [
    {
     "name": "stdout",
     "output_type": "stream",
     "text": [
      "[2 4 6]\n"
     ]
    }
   ],
   "source": [
    "a = np.array([1, 2, 3])\n",
    "b = 2\n",
    "print(a*b)\n",
    "#Here \"b\" broadcast to match the size of \"a\"\n",
    "#This is similar to [1, 2, 3] * [2, 2, 2]"
   ]
  },
  {
   "cell_type": "code",
   "execution_count": 36,
   "metadata": {
    "colab": {
     "base_uri": "https://localhost:8080/"
    },
    "id": "sFuo8X05ETB7",
    "outputId": "fbfd01b2-3112-4f2a-8fe2-d6d77b6df5f5"
   },
   "outputs": [
    {
     "name": "stdout",
     "output_type": "stream",
     "text": [
      "[[11 22 33]\n",
      " [41 52 63]\n",
      " [71 82 93]]\n"
     ]
    }
   ],
   "source": [
    "a = np.array([[10, 20, 30], [40, 50, 60], [70, 80, 90]])\n",
    "b = np.array([1, 2, 3])\n",
    "print(a + b)\n",
    "#Here \"b\" broadcast to match the size of \"a\"\n",
    "# This is similar to [[10, 20, 30]    [[1, 2, 3]\n",
    "#                     [40, 50, 60]  +  [1, 2, 3]\n",
    "#                     [70, 80, 90]]    [1, 2, 3]]"
   ]
  },
  {
   "cell_type": "markdown",
   "metadata": {
    "id": "0y5GC0-jJWi6"
   },
   "source": [
    "**13. Write a function to compute the argmin of a numpy array. The function should take a numpy array as input and return the index of the minimum element. You can use the np.argmin function to verify your solution.**"
   ]
  },
  {
   "cell_type": "code",
   "execution_count": 37,
   "metadata": {
    "colab": {
     "base_uri": "https://localhost:8080/"
    },
    "id": "N3ecyijZEx73",
    "outputId": "6b8d763d-1919-4d4c-86f2-5659011f80b0"
   },
   "outputs": [
    {
     "name": "stdout",
     "output_type": "stream",
     "text": [
      "5\n"
     ]
    }
   ],
   "source": [
    "import numpy as np\n",
    "\n",
    "def compute_argmin(arr):\n",
    "    return arr.argmin()\n",
    "\n",
    "arr = np.array([1, 5, 4, 2, 3, 0, 7, 6, 8])\n",
    "print(compute_argmin(arr))\n"
   ]
  },
  {
   "cell_type": "code",
   "execution_count": 38,
   "metadata": {
    "colab": {
     "base_uri": "https://localhost:8080/"
    },
    "id": "NjSypcG9JVs6",
    "outputId": "f38036f7-6a87-4f99-e952-084e9ce24806"
   },
   "outputs": [
    {
     "data": {
      "text/plain": [
       "True"
      ]
     },
     "execution_count": 38,
     "metadata": {},
     "output_type": "execute_result"
    }
   ],
   "source": [
    "def check(arr):\n",
    "  return compute_argmin(arr) == np.argmin(arr)\n",
    "\n",
    "check(arr)"
   ]
  },
  {
   "cell_type": "code",
   "execution_count": null,
   "metadata": {
    "id": "ToY81zo9KMWC"
   },
   "outputs": [],
   "source": []
  }
 ],
 "metadata": {
  "accelerator": "GPU",
  "colab": {
   "provenance": []
  },
  "gpuClass": "standard",
  "kernelspec": {
   "display_name": "Python 3",
   "language": "python",
   "name": "python3"
  },
  "language_info": {
   "codemirror_mode": {
    "name": "ipython",
    "version": 3
   },
   "file_extension": ".py",
   "mimetype": "text/x-python",
   "name": "python",
   "nbconvert_exporter": "python",
   "pygments_lexer": "ipython3",
   "version": "3.8.8"
  }
 },
 "nbformat": 4,
 "nbformat_minor": 4
}
